{
 "cells": [
  {
   "cell_type": "code",
   "execution_count": 2,
   "id": "2e4dfcaa",
   "metadata": {},
   "outputs": [],
   "source": [
    "lst1=[1,2,3,45,\"Remove\"]"
   ]
  },
  {
   "cell_type": "code",
   "execution_count": 4,
   "id": "dca79dcb",
   "metadata": {},
   "outputs": [
    {
     "ename": "ValueError",
     "evalue": "list.remove(x): x not in list",
     "output_type": "error",
     "traceback": [
      "\u001b[1;31m---------------------------------------------------------------------------\u001b[0m",
      "\u001b[1;31mValueError\u001b[0m                                Traceback (most recent call last)",
      "Cell \u001b[1;32mIn[4], line 1\u001b[0m\n\u001b[1;32m----> 1\u001b[0m lst1\u001b[38;5;241m.\u001b[39mremove(\u001b[38;5;124m\"\u001b[39m\u001b[38;5;124mRemove\u001b[39m\u001b[38;5;124m\"\u001b[39m)\n",
      "\u001b[1;31mValueError\u001b[0m: list.remove(x): x not in list"
     ]
    }
   ],
   "source": [
    "lst1.remove(\"Remove\")"
   ]
  },
  {
   "cell_type": "code",
   "execution_count": 7,
   "id": "02815137",
   "metadata": {},
   "outputs": [
    {
     "data": {
      "text/plain": [
       "[1, 2, 3, 45]"
      ]
     },
     "execution_count": 7,
     "metadata": {},
     "output_type": "execute_result"
    }
   ],
   "source": [
    "lst1\n"
   ]
  },
  {
   "cell_type": "code",
   "execution_count": 10,
   "id": "dd5e3982",
   "metadata": {},
   "outputs": [
    {
     "ename": "NameError",
     "evalue": "name 'lst1' is not defined",
     "output_type": "error",
     "traceback": [
      "\u001b[1;31m---------------------------------------------------------------------------\u001b[0m",
      "\u001b[1;31mNameError\u001b[0m                                 Traceback (most recent call last)",
      "Cell \u001b[1;32mIn[10], line 1\u001b[0m\n\u001b[1;32m----> 1\u001b[0m \u001b[38;5;28;01mdel\u001b[39;00m lst1\n",
      "\u001b[1;31mNameError\u001b[0m: name 'lst1' is not defined"
     ]
    }
   ],
   "source": [
    "del lst1"
   ]
  },
  {
   "cell_type": "code",
   "execution_count": 12,
   "id": "aa160ff5",
   "metadata": {
    "scrolled": true
   },
   "outputs": [
    {
     "ename": "NameError",
     "evalue": "name 'lst1' is not defined",
     "output_type": "error",
     "traceback": [
      "\u001b[1;31m---------------------------------------------------------------------------\u001b[0m",
      "\u001b[1;31mNameError\u001b[0m                                 Traceback (most recent call last)",
      "Cell \u001b[1;32mIn[12], line 1\u001b[0m\n\u001b[1;32m----> 1\u001b[0m \u001b[38;5;28;01mdel\u001b[39;00m lst1\n",
      "\u001b[1;31mNameError\u001b[0m: name 'lst1' is not defined"
     ]
    }
   ],
   "source": [
    "del lst1"
   ]
  },
  {
   "cell_type": "code",
   "execution_count": 14,
   "id": "d2138248",
   "metadata": {},
   "outputs": [
    {
     "ename": "NameError",
     "evalue": "name 'lst1' is not defined",
     "output_type": "error",
     "traceback": [
      "\u001b[1;31m---------------------------------------------------------------------------\u001b[0m",
      "\u001b[1;31mNameError\u001b[0m                                 Traceback (most recent call last)",
      "Cell \u001b[1;32mIn[14], line 1\u001b[0m\n\u001b[1;32m----> 1\u001b[0m lst1\n",
      "\u001b[1;31mNameError\u001b[0m: name 'lst1' is not defined"
     ]
    }
   ],
   "source": [
    "lst1"
   ]
  },
  {
   "cell_type": "code",
   "execution_count": 16,
   "id": "153f9078",
   "metadata": {},
   "outputs": [],
   "source": [
    "lst1=[1,2,3,4,5,6]"
   ]
  },
  {
   "cell_type": "code",
   "execution_count": 18,
   "id": "c35f031b",
   "metadata": {},
   "outputs": [],
   "source": [
    "lst3=[1,4,5,89,7]"
   ]
  },
  {
   "cell_type": "code",
   "execution_count": 22,
   "id": "bfa5e0d7",
   "metadata": {},
   "outputs": [],
   "source": [
    "lst3=lst1.copy()"
   ]
  },
  {
   "cell_type": "code",
   "execution_count": 23,
   "id": "54589a0d",
   "metadata": {},
   "outputs": [
    {
     "data": {
      "text/plain": [
       "[1, 2, 3, 4, 5, 6]"
      ]
     },
     "execution_count": 23,
     "metadata": {},
     "output_type": "execute_result"
    }
   ],
   "source": [
    "lst3"
   ]
  },
  {
   "cell_type": "code",
   "execution_count": 27,
   "id": "9252273b",
   "metadata": {},
   "outputs": [],
   "source": [
    "lst1=lst3.copy()"
   ]
  },
  {
   "cell_type": "code",
   "execution_count": 59,
   "id": "eb6026d3",
   "metadata": {},
   "outputs": [],
   "source": [
    "lst3 = lst1.copy()"
   ]
  },
  {
   "cell_type": "code",
   "execution_count": 64,
   "id": "6fcc8221",
   "metadata": {},
   "outputs": [
    {
     "data": {
      "text/plain": [
       "[1, 2, 3, 4, 5, 6]"
      ]
     },
     "execution_count": 64,
     "metadata": {},
     "output_type": "execute_result"
    }
   ],
   "source": [
    "lst3"
   ]
  },
  {
   "cell_type": "code",
   "execution_count": 67,
   "id": "6d98fbe9",
   "metadata": {},
   "outputs": [],
   "source": [
    "lst3=lst1.copy()"
   ]
  },
  {
   "cell_type": "code",
   "execution_count": 69,
   "id": "8c14d340",
   "metadata": {},
   "outputs": [
    {
     "data": {
      "text/plain": [
       "[1, 2, 3, 4, 5, 6]"
      ]
     },
     "execution_count": 69,
     "metadata": {},
     "output_type": "execute_result"
    }
   ],
   "source": [
    "lst3"
   ]
  },
  {
   "cell_type": "code",
   "execution_count": 76,
   "id": "8a95ab4f",
   "metadata": {},
   "outputs": [
    {
     "data": {
      "text/plain": [
       "[1, 2, 3, 4, 5, 6]"
      ]
     },
     "execution_count": 76,
     "metadata": {},
     "output_type": "execute_result"
    }
   ],
   "source": [
    "lst3.copy()"
   ]
  },
  {
   "cell_type": "code",
   "execution_count": 85,
   "id": "22d9ad39",
   "metadata": {},
   "outputs": [],
   "source": [
    "lst1=lst3.copy()"
   ]
  },
  {
   "cell_type": "code",
   "execution_count": 89,
   "id": "c789d693",
   "metadata": {},
   "outputs": [
    {
     "name": "stdout",
     "output_type": "stream",
     "text": [
      "[1, 2, 3, 4, 5, 6]\n"
     ]
    }
   ],
   "source": [
    "print(lst1)"
   ]
  },
  {
   "cell_type": "code",
   "execution_count": 91,
   "id": "621a1aec",
   "metadata": {},
   "outputs": [],
   "source": [
    "lst3=lst1.copy()"
   ]
  },
  {
   "cell_type": "code",
   "execution_count": 93,
   "id": "9929ba19",
   "metadata": {},
   "outputs": [
    {
     "name": "stdout",
     "output_type": "stream",
     "text": [
      "[1, 2, 3, 4, 5, 6]\n"
     ]
    }
   ],
   "source": [
    "print(lst3)"
   ]
  },
  {
   "cell_type": "code",
   "execution_count": 95,
   "id": "84aa9026",
   "metadata": {},
   "outputs": [],
   "source": [
    "lst5=[34,56,67,89]"
   ]
  },
  {
   "cell_type": "code",
   "execution_count": 97,
   "id": "a11159ed",
   "metadata": {},
   "outputs": [],
   "source": [
    "lst3=lst5.copy()"
   ]
  },
  {
   "cell_type": "code",
   "execution_count": 100,
   "id": "31754fa8",
   "metadata": {},
   "outputs": [
    {
     "data": {
      "text/plain": [
       "[34, 56, 67, 89]"
      ]
     },
     "execution_count": 100,
     "metadata": {},
     "output_type": "execute_result"
    }
   ],
   "source": [
    "lst3"
   ]
  },
  {
   "cell_type": "code",
   "execution_count": 102,
   "id": "c51c103c",
   "metadata": {},
   "outputs": [
    {
     "data": {
      "text/plain": [
       "[34, 56, 67, 89]"
      ]
     },
     "execution_count": 102,
     "metadata": {},
     "output_type": "execute_result"
    }
   ],
   "source": [
    "lst5"
   ]
  },
  {
   "cell_type": "code",
   "execution_count": 104,
   "id": "269ca219",
   "metadata": {},
   "outputs": [
    {
     "data": {
      "text/plain": [
       "[34, 56, 67, 89]"
      ]
     },
     "execution_count": 104,
     "metadata": {},
     "output_type": "execute_result"
    }
   ],
   "source": [
    "lst3"
   ]
  },
  {
   "cell_type": "code",
   "execution_count": 106,
   "id": "c4aff18e",
   "metadata": {},
   "outputs": [],
   "source": [
    "lst6=[678,880,2345,56789]"
   ]
  },
  {
   "cell_type": "code",
   "execution_count": 110,
   "id": "99ea7e9a",
   "metadata": {},
   "outputs": [],
   "source": [
    "lst6=lst3.copy()"
   ]
  },
  {
   "cell_type": "code",
   "execution_count": 112,
   "id": "0ad2dc75",
   "metadata": {},
   "outputs": [
    {
     "data": {
      "text/plain": [
       "[34, 56, 67, 89]"
      ]
     },
     "execution_count": 112,
     "metadata": {},
     "output_type": "execute_result"
    }
   ],
   "source": [
    "lst6"
   ]
  },
  {
   "cell_type": "code",
   "execution_count": 114,
   "id": "39f881ec",
   "metadata": {},
   "outputs": [],
   "source": [
    "lst3=lst3.copy()"
   ]
  },
  {
   "cell_type": "code",
   "execution_count": 118,
   "id": "4df7d0de",
   "metadata": {},
   "outputs": [],
   "source": [
    "lst3=lst6.copy()"
   ]
  },
  {
   "cell_type": "code",
   "execution_count": 121,
   "id": "5f1ea3a2",
   "metadata": {},
   "outputs": [
    {
     "data": {
      "text/plain": [
       "[34, 56, 67, 89]"
      ]
     },
     "execution_count": 121,
     "metadata": {},
     "output_type": "execute_result"
    }
   ],
   "source": [
    "lst3"
   ]
  },
  {
   "cell_type": "code",
   "execution_count": 126,
   "id": "8d5e3e66",
   "metadata": {},
   "outputs": [],
   "source": [
    "lst6=[678,880,2345,56789]"
   ]
  },
  {
   "cell_type": "markdown",
   "id": "ecd79651",
   "metadata": {},
   "source": [
    "lst3"
   ]
  },
  {
   "cell_type": "code",
   "execution_count": 128,
   "id": "1174e3c3",
   "metadata": {},
   "outputs": [
    {
     "data": {
      "text/plain": [
       "[678, 880, 2345, 56789]"
      ]
     },
     "execution_count": 128,
     "metadata": {},
     "output_type": "execute_result"
    }
   ],
   "source": [
    "lst3"
   ]
  },
  {
   "cell_type": "code",
   "execution_count": 130,
   "id": "4a3745c3",
   "metadata": {},
   "outputs": [],
   "source": [
    "lst4=[12,45,23,78,45,89]"
   ]
  },
  {
   "cell_type": "code",
   "execution_count": 135,
   "id": "c99bba38",
   "metadata": {},
   "outputs": [
    {
     "data": {
      "text/plain": [
       "2"
      ]
     },
     "execution_count": 135,
     "metadata": {},
     "output_type": "execute_result"
    }
   ],
   "source": [
    "lst4.index(23)"
   ]
  },
  {
   "cell_type": "code",
   "execution_count": 8,
   "id": "3bf82b34",
   "metadata": {},
   "outputs": [],
   "source": [
    "lst4=[1,2,3,4,5,6,7,8,98,4]"
   ]
  },
  {
   "cell_type": "code",
   "execution_count": 9,
   "id": "da6d0ec2",
   "metadata": {},
   "outputs": [
    {
     "data": {
      "text/plain": [
       "9"
      ]
     },
     "execution_count": 9,
     "metadata": {},
     "output_type": "execute_result"
    }
   ],
   "source": [
    "lst4.index(4,4)"
   ]
  },
  {
   "cell_type": "code",
   "execution_count": 14,
   "id": "9bd4594c",
   "metadata": {},
   "outputs": [
    {
     "ename": "NameError",
     "evalue": "name 'count' is not defined",
     "output_type": "error",
     "traceback": [
      "\u001b[1;31m---------------------------------------------------------------------------\u001b[0m",
      "\u001b[1;31mNameError\u001b[0m                                 Traceback (most recent call last)",
      "Cell \u001b[1;32mIn[14], line 1\u001b[0m\n\u001b[1;32m----> 1\u001b[0m count(lst4)\n",
      "\u001b[1;31mNameError\u001b[0m: name 'count' is not defined"
     ]
    }
   ],
   "source": [
    "count(lst4)"
   ]
  },
  {
   "cell_type": "code",
   "execution_count": null,
   "id": "49cdc885",
   "metadata": {},
   "outputs": [],
   "source": []
  }
 ],
 "metadata": {
  "kernelspec": {
   "display_name": "Python 3 (ipykernel)",
   "language": "python",
   "name": "python3"
  },
  "language_info": {
   "codemirror_mode": {
    "name": "ipython",
    "version": 3
   },
   "file_extension": ".py",
   "mimetype": "text/x-python",
   "name": "python",
   "nbconvert_exporter": "python",
   "pygments_lexer": "ipython3",
   "version": "3.11.5"
  }
 },
 "nbformat": 4,
 "nbformat_minor": 5
}
