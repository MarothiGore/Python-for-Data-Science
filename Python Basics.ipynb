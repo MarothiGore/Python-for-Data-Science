{
 "cells": [
  {
   "cell_type": "markdown",
   "id": "6cdf936b",
   "metadata": {},
   "source": [
    "## Concatination\n",
    "str1=\"Sanjay\""
   ]
  },
  {
   "cell_type": "code",
   "execution_count": 2,
   "id": "01366ac1",
   "metadata": {},
   "outputs": [],
   "source": [
    "str1=\"sanjay\"\n",
    "str2=\"kumar\""
   ]
  },
  {
   "cell_type": "code",
   "execution_count": 5,
   "id": "b93a0cf2",
   "metadata": {},
   "outputs": [
    {
     "data": {
      "text/plain": [
       "'sanjaykumar'"
      ]
     },
     "execution_count": 5,
     "metadata": {},
     "output_type": "execute_result"
    }
   ],
   "source": [
    "str1+str2"
   ]
  },
  {
   "cell_type": "code",
   "execution_count": 9,
   "id": "f98335e9",
   "metadata": {},
   "outputs": [
    {
     "data": {
      "text/plain": [
       "'sanjaykumar'"
      ]
     },
     "execution_count": 9,
     "metadata": {},
     "output_type": "execute_result"
    }
   ],
   "source": [
    "str1+''+str2"
   ]
  },
  {
   "cell_type": "code",
   "execution_count": 11,
   "id": "9be69bf2",
   "metadata": {},
   "outputs": [
    {
     "data": {
      "text/plain": [
       "'sanjaykumar'"
      ]
     },
     "execution_count": 11,
     "metadata": {},
     "output_type": "execute_result"
    }
   ],
   "source": [
    "str1+''+str2"
   ]
  },
  {
   "cell_type": "code",
   "execution_count": 13,
   "id": "32add055",
   "metadata": {},
   "outputs": [
    {
     "data": {
      "text/plain": [
       "'sanjaykumar'"
      ]
     },
     "execution_count": 13,
     "metadata": {},
     "output_type": "execute_result"
    }
   ],
   "source": [
    "str1+''+str2"
   ]
  },
  {
   "cell_type": "code",
   "execution_count": 15,
   "id": "12ee547e",
   "metadata": {},
   "outputs": [
    {
     "data": {
      "text/plain": [
       "'sanjaykumar'"
      ]
     },
     "execution_count": 15,
     "metadata": {},
     "output_type": "execute_result"
    }
   ],
   "source": [
    "str1+''+str2"
   ]
  },
  {
   "cell_type": "code",
   "execution_count": 16,
   "id": "1fd050da",
   "metadata": {},
   "outputs": [],
   "source": [
    "str3=\"python fundamental class\""
   ]
  },
  {
   "cell_type": "code",
   "execution_count": 21,
   "id": "2aaea723",
   "metadata": {},
   "outputs": [
    {
     "ename": "NameError",
     "evalue": "name 'str3' is not defined",
     "output_type": "error",
     "traceback": [
      "\u001b[1;31m---------------------------------------------------------------------------\u001b[0m",
      "\u001b[1;31mNameError\u001b[0m                                 Traceback (most recent call last)",
      "Cell \u001b[1;32mIn[21], line 1\u001b[0m\n\u001b[1;32m----> 1\u001b[0m \u001b[38;5;28mlen\u001b[39m(str3)\n",
      "\u001b[1;31mNameError\u001b[0m: name 'str3' is not defined"
     ]
    }
   ],
   "source": [
    "len(str3)"
   ]
  },
  {
   "cell_type": "code",
   "execution_count": null,
   "id": "267f8544",
   "metadata": {},
   "outputs": [],
   "source": [
    "str3=\"python fundamental class\""
   ]
  },
  {
   "cell_type": "code",
   "execution_count": 24,
   "id": "32cbcc88",
   "metadata": {},
   "outputs": [
    {
     "ename": "NameError",
     "evalue": "name 'str3' is not defined",
     "output_type": "error",
     "traceback": [
      "\u001b[1;31m---------------------------------------------------------------------------\u001b[0m",
      "\u001b[1;31mNameError\u001b[0m                                 Traceback (most recent call last)",
      "Cell \u001b[1;32mIn[24], line 1\u001b[0m\n\u001b[1;32m----> 1\u001b[0m \u001b[38;5;28mlen\u001b[39m(str3)\n",
      "\u001b[1;31mNameError\u001b[0m: name 'str3' is not defined"
     ]
    }
   ],
   "source": [
    "len(str3)"
   ]
  },
  {
   "cell_type": "code",
   "execution_count": 26,
   "id": "dcd53a5c",
   "metadata": {},
   "outputs": [],
   "source": [
    "str3='python fundamental class'"
   ]
  },
  {
   "cell_type": "code",
   "execution_count": 29,
   "id": "a8a7d842",
   "metadata": {},
   "outputs": [
    {
     "data": {
      "text/plain": [
       "24"
      ]
     },
     "execution_count": 29,
     "metadata": {},
     "output_type": "execute_result"
    }
   ],
   "source": [
    "len(str3)"
   ]
  },
  {
   "cell_type": "code",
   "execution_count": 31,
   "id": "35e0f216",
   "metadata": {},
   "outputs": [
    {
     "data": {
      "text/plain": [
       "['python', 'fundamental', 'class']"
      ]
     },
     "execution_count": 31,
     "metadata": {},
     "output_type": "execute_result"
    }
   ],
   "source": [
    "str.split()"
   ]
  },
  {
   "cell_type": "code",
   "execution_count": 33,
   "id": "021fd811",
   "metadata": {},
   "outputs": [
    {
     "data": {
      "text/plain": [
       "24"
      ]
     },
     "execution_count": 33,
     "metadata": {},
     "output_type": "execute_result"
    }
   ],
   "source": [
    "len(str3)"
   ]
  },
  {
   "cell_type": "code",
   "execution_count": 37,
   "id": "edecec08",
   "metadata": {},
   "outputs": [
    {
     "data": {
      "text/plain": [
       "['python', 'fundamental', 'class']"
      ]
     },
     "execution_count": 37,
     "metadata": {},
     "output_type": "execute_result"
    }
   ],
   "source": [
    "str.split()"
   ]
  },
  {
   "cell_type": "code",
   "execution_count": 39,
   "id": "b25e733c",
   "metadata": {},
   "outputs": [
    {
     "ename": "SyntaxError",
     "evalue": "invalid syntax (1583447895.py, line 1)",
     "output_type": "error",
     "traceback": [
      "\u001b[1;36m  Cell \u001b[1;32mIn[39], line 1\u001b[1;36m\u001b[0m\n\u001b[1;33m    len(str3)|\u001b[0m\n\u001b[1;37m              ^\u001b[0m\n\u001b[1;31mSyntaxError\u001b[0m\u001b[1;31m:\u001b[0m invalid syntax\n"
     ]
    }
   ],
   "source": [
    "len(str3)|"
   ]
  },
  {
   "cell_type": "code",
   "execution_count": 41,
   "id": "82ae6a07",
   "metadata": {},
   "outputs": [
    {
     "data": {
      "text/plain": [
       "24"
      ]
     },
     "execution_count": 41,
     "metadata": {},
     "output_type": "execute_result"
    }
   ],
   "source": [
    "len(str3)"
   ]
  },
  {
   "cell_type": "code",
   "execution_count": 3,
   "id": "040e3ff7",
   "metadata": {},
   "outputs": [
    {
     "ename": "TypeError",
     "evalue": "len() takes exactly one argument (0 given)",
     "output_type": "error",
     "traceback": [
      "\u001b[1;31m---------------------------------------------------------------------------\u001b[0m",
      "\u001b[1;31mTypeError\u001b[0m                                 Traceback (most recent call last)",
      "Cell \u001b[1;32mIn[3], line 1\u001b[0m\n\u001b[1;32m----> 1\u001b[0m \u001b[38;5;28mlen\u001b[39m()\n",
      "\u001b[1;31mTypeError\u001b[0m: len() takes exactly one argument (0 given)"
     ]
    }
   ],
   "source": [
    "len()"
   ]
  },
  {
   "cell_type": "code",
   "execution_count": 1,
   "id": "8dc015e1",
   "metadata": {},
   "outputs": [],
   "source": [
    "\n",
    "str1=\"python fundamental class\""
   ]
  },
  {
   "cell_type": "code",
   "execution_count": 1,
   "id": "3a8476c8",
   "metadata": {},
   "outputs": [
    {
     "ename": "NameError",
     "evalue": "name 'str1' is not defined",
     "output_type": "error",
     "traceback": [
      "\u001b[1;31m---------------------------------------------------------------------------\u001b[0m",
      "\u001b[1;31mNameError\u001b[0m                                 Traceback (most recent call last)",
      "Cell \u001b[1;32mIn[1], line 1\u001b[0m\n\u001b[1;32m----> 1\u001b[0m str1\u001b[38;5;241m.\u001b[39msplit()\n",
      "\u001b[1;31mNameError\u001b[0m: name 'str1' is not defined"
     ]
    }
   ],
   "source": [
    "str1.split()"
   ]
  },
  {
   "cell_type": "code",
   "execution_count": 4,
   "id": "9af7bbcb",
   "metadata": {},
   "outputs": [
    {
     "ename": "NameError",
     "evalue": "name 'str3' is not defined",
     "output_type": "error",
     "traceback": [
      "\u001b[1;31m---------------------------------------------------------------------------\u001b[0m",
      "\u001b[1;31mNameError\u001b[0m                                 Traceback (most recent call last)",
      "Cell \u001b[1;32mIn[4], line 1\u001b[0m\n\u001b[1;32m----> 1\u001b[0m str3\u001b[38;5;241m.\u001b[39msplit()\n",
      "\u001b[1;31mNameError\u001b[0m: name 'str3' is not defined"
     ]
    }
   ],
   "source": [
    "str3.split()"
   ]
  },
  {
   "cell_type": "code",
   "execution_count": 9,
   "id": "676cdb2c",
   "metadata": {},
   "outputs": [],
   "source": [
    "str1=\"When you are  python are  general class\""
   ]
  },
  {
   "cell_type": "code",
   "execution_count": 12,
   "id": "7348a321",
   "metadata": {},
   "outputs": [
    {
     "data": {
      "text/plain": [
       "['When', 'you', 'are', 'python', 'are', 'general', 'class']"
      ]
     },
     "execution_count": 12,
     "metadata": {},
     "output_type": "execute_result"
    }
   ],
   "source": [
    "str1.split()"
   ]
  },
  {
   "cell_type": "code",
   "execution_count": 14,
   "id": "d32de6e3",
   "metadata": {},
   "outputs": [
    {
     "data": {
      "text/plain": [
       "'h'"
      ]
     },
     "execution_count": 14,
     "metadata": {},
     "output_type": "execute_result"
    }
   ],
   "source": [
    "str1[1]"
   ]
  },
  {
   "cell_type": "code",
   "execution_count": 4,
   "id": "05feaf3f",
   "metadata": {
    "scrolled": true
   },
   "outputs": [
    {
     "ename": "NameError",
     "evalue": "name 'str1' is not defined",
     "output_type": "error",
     "traceback": [
      "\u001b[1;31m---------------------------------------------------------------------------\u001b[0m",
      "\u001b[1;31mNameError\u001b[0m                                 Traceback (most recent call last)",
      "Cell \u001b[1;32mIn[4], line 1\u001b[0m\n\u001b[1;32m----> 1\u001b[0m str1\u001b[38;5;241m.\u001b[39msplit()\n",
      "\u001b[1;31mNameError\u001b[0m: name 'str1' is not defined"
     ]
    }
   ],
   "source": [
    "str1.split()"
   ]
  },
  {
   "cell_type": "code",
   "execution_count": 6,
   "id": "d38efd40",
   "metadata": {},
   "outputs": [],
   "source": [
    "str3=\"Python fudmental class\""
   ]
  },
  {
   "cell_type": "code",
   "execution_count": 8,
   "id": "836a986e",
   "metadata": {},
   "outputs": [
    {
     "data": {
      "text/plain": [
       "['Python', 'fudmental', 'class']"
      ]
     },
     "execution_count": 8,
     "metadata": {},
     "output_type": "execute_result"
    }
   ],
   "source": [
    "str3.split()"
   ]
  },
  {
   "cell_type": "code",
   "execution_count": 11,
   "id": "331d7a56",
   "metadata": {},
   "outputs": [
    {
     "data": {
      "text/plain": [
       "'Pyth'"
      ]
     },
     "execution_count": 11,
     "metadata": {},
     "output_type": "execute_result"
    }
   ],
   "source": [
    "str3[0:4]"
   ]
  },
  {
   "cell_type": "code",
   "execution_count": 13,
   "id": "a1ba6b2c",
   "metadata": {},
   "outputs": [
    {
     "data": {
      "text/plain": [
       "''"
      ]
     },
     "execution_count": 13,
     "metadata": {},
     "output_type": "execute_result"
    }
   ],
   "source": [
    "str3[4:0]"
   ]
  },
  {
   "cell_type": "code",
   "execution_count": 15,
   "id": "10bf8168",
   "metadata": {},
   "outputs": [
    {
     "data": {
      "text/plain": [
       "''"
      ]
     },
     "execution_count": 15,
     "metadata": {},
     "output_type": "execute_result"
    }
   ],
   "source": [
    "str3[4:4]"
   ]
  },
  {
   "cell_type": "code",
   "execution_count": 18,
   "id": "59241aaf",
   "metadata": {},
   "outputs": [
    {
     "data": {
      "text/plain": [
       "'o'"
      ]
     },
     "execution_count": 18,
     "metadata": {},
     "output_type": "execute_result"
    }
   ],
   "source": [
    "str3[4:5]"
   ]
  },
  {
   "cell_type": "code",
   "execution_count": 22,
   "id": "8f09dcb6",
   "metadata": {},
   "outputs": [
    {
     "data": {
      "text/plain": [
       "''"
      ]
     },
     "execution_count": 22,
     "metadata": {},
     "output_type": "execute_result"
    }
   ],
   "source": [
    "str3[5:5]"
   ]
  },
  {
   "cell_type": "code",
   "execution_count": 23,
   "id": "db51a20b",
   "metadata": {},
   "outputs": [
    {
     "data": {
      "text/plain": [
       "'o'"
      ]
     },
     "execution_count": 23,
     "metadata": {},
     "output_type": "execute_result"
    }
   ],
   "source": [
    "str3[4:5]"
   ]
  },
  {
   "cell_type": "code",
   "execution_count": 25,
   "id": "fb1e805b",
   "metadata": {},
   "outputs": [
    {
     "data": {
      "text/plain": [
       "'y'"
      ]
     },
     "execution_count": 25,
     "metadata": {},
     "output_type": "execute_result"
    }
   ],
   "source": [
    "str3[1:2]\n"
   ]
  },
  {
   "cell_type": "code",
   "execution_count": 27,
   "id": "040c28fc",
   "metadata": {},
   "outputs": [
    {
     "data": {
      "text/plain": [
       "'Py'"
      ]
     },
     "execution_count": 27,
     "metadata": {},
     "output_type": "execute_result"
    }
   ],
   "source": [
    "str3[0:2]\n"
   ]
  },
  {
   "cell_type": "code",
   "execution_count": 29,
   "id": "d8b2a6e2",
   "metadata": {},
   "outputs": [],
   "source": [
    "str3=['python','funademental','class']"
   ]
  },
  {
   "cell_type": "code",
   "execution_count": 32,
   "id": "faa76ad1",
   "metadata": {},
   "outputs": [
    {
     "data": {
      "text/plain": [
       "['python']"
      ]
     },
     "execution_count": 32,
     "metadata": {},
     "output_type": "execute_result"
    }
   ],
   "source": [
    "str3[0:1]"
   ]
  },
  {
   "cell_type": "code",
   "execution_count": 34,
   "id": "e579e3d0",
   "metadata": {},
   "outputs": [
    {
     "data": {
      "text/plain": [
       "['python', 'funademental']"
      ]
     },
     "execution_count": 34,
     "metadata": {},
     "output_type": "execute_result"
    }
   ],
   "source": [
    "str3[0:2]"
   ]
  },
  {
   "cell_type": "code",
   "execution_count": 36,
   "id": "759ac635",
   "metadata": {},
   "outputs": [
    {
     "data": {
      "text/plain": [
       "['python', 'funademental', 'class']"
      ]
     },
     "execution_count": 36,
     "metadata": {},
     "output_type": "execute_result"
    }
   ],
   "source": [
    "str3[0:3]"
   ]
  },
  {
   "cell_type": "code",
   "execution_count": 39,
   "id": "5fc6c077",
   "metadata": {},
   "outputs": [
    {
     "data": {
      "text/plain": [
       "['python', 'funademental', 'class']"
      ]
     },
     "execution_count": 39,
     "metadata": {},
     "output_type": "execute_result"
    }
   ],
   "source": [
    "str3[0:3]"
   ]
  },
  {
   "cell_type": "raw",
   "id": "ff76d6db",
   "metadata": {},
   "source": [
    "str3[3:0]"
   ]
  },
  {
   "cell_type": "code",
   "execution_count": 46,
   "id": "214f3924",
   "metadata": {},
   "outputs": [
    {
     "ename": "IndexError",
     "evalue": "list index out of range",
     "output_type": "error",
     "traceback": [
      "\u001b[1;31m---------------------------------------------------------------------------\u001b[0m",
      "\u001b[1;31mIndexError\u001b[0m                                Traceback (most recent call last)",
      "Cell \u001b[1;32mIn[46], line 1\u001b[0m\n\u001b[1;32m----> 1\u001b[0m str3[\u001b[38;5;241m3\u001b[39m]\n",
      "\u001b[1;31mIndexError\u001b[0m: list index out of range"
     ]
    }
   ],
   "source": [
    "str3[3]"
   ]
  },
  {
   "cell_type": "code",
   "execution_count": 47,
   "id": "313c17dc",
   "metadata": {},
   "outputs": [
    {
     "data": {
      "text/plain": [
       "['python', 'funademental', 'class']"
      ]
     },
     "execution_count": 47,
     "metadata": {},
     "output_type": "execute_result"
    }
   ],
   "source": [
    "str3[0:3]"
   ]
  },
  {
   "cell_type": "code",
   "execution_count": 50,
   "id": "c1a5d7b3",
   "metadata": {},
   "outputs": [
    {
     "data": {
      "text/plain": [
       "[]"
      ]
     },
     "execution_count": 50,
     "metadata": {},
     "output_type": "execute_result"
    }
   ],
   "source": [
    "str3[3:4]"
   ]
  },
  {
   "cell_type": "code",
   "execution_count": 53,
   "id": "274b53fe",
   "metadata": {},
   "outputs": [
    {
     "data": {
      "text/plain": [
       "['python', 'funademental', 'class']"
      ]
     },
     "execution_count": 53,
     "metadata": {},
     "output_type": "execute_result"
    }
   ],
   "source": [
    "str3[0:3]"
   ]
  },
  {
   "cell_type": "code",
   "execution_count": 56,
   "id": "87bc13c3",
   "metadata": {},
   "outputs": [
    {
     "data": {
      "text/plain": [
       "'pythonfunadementalclass'"
      ]
     },
     "execution_count": 56,
     "metadata": {},
     "output_type": "execute_result"
    }
   ],
   "source": [
    "''.join(str3)"
   ]
  },
  {
   "cell_type": "code",
   "execution_count": 58,
   "id": "5d7dbaec",
   "metadata": {},
   "outputs": [
    {
     "data": {
      "text/plain": [
       "'python funademental class'"
      ]
     },
     "execution_count": 58,
     "metadata": {},
     "output_type": "execute_result"
    }
   ],
   "source": [
    "' '.join(str3)"
   ]
  },
  {
   "cell_type": "code",
   "execution_count": 59,
   "id": "8c64b215",
   "metadata": {},
   "outputs": [],
   "source": [
    "str1='  python    '"
   ]
  },
  {
   "cell_type": "code",
   "execution_count": 60,
   "id": "ff243c16",
   "metadata": {},
   "outputs": [
    {
     "data": {
      "text/plain": [
       "'  python    '"
      ]
     },
     "execution_count": 60,
     "metadata": {},
     "output_type": "execute_result"
    }
   ],
   "source": [
    "str1"
   ]
  },
  {
   "cell_type": "code",
   "execution_count": 63,
   "id": "d8d38e9b",
   "metadata": {},
   "outputs": [
    {
     "data": {
      "text/plain": [
       "<function str.strip(chars=None, /)>"
      ]
     },
     "execution_count": 63,
     "metadata": {},
     "output_type": "execute_result"
    }
   ],
   "source": [
    "str1.strip"
   ]
  },
  {
   "cell_type": "code",
   "execution_count": 68,
   "id": "ae013389",
   "metadata": {},
   "outputs": [
    {
     "ename": "TypeError",
     "evalue": "unbound method str.strip() needs an argument",
     "output_type": "error",
     "traceback": [
      "\u001b[1;31m---------------------------------------------------------------------------\u001b[0m",
      "\u001b[1;31mTypeError\u001b[0m                                 Traceback (most recent call last)",
      "Cell \u001b[1;32mIn[68], line 1\u001b[0m\n\u001b[1;32m----> 1\u001b[0m \u001b[38;5;28mstr\u001b[39m\u001b[38;5;241m.\u001b[39mstrip()\n",
      "\u001b[1;31mTypeError\u001b[0m: unbound method str.strip() needs an argument"
     ]
    }
   ],
   "source": [
    "str.strip()"
   ]
  },
  {
   "cell_type": "code",
   "execution_count": 70,
   "id": "a334792a",
   "metadata": {},
   "outputs": [
    {
     "data": {
      "text/plain": [
       "'python'"
      ]
     },
     "execution_count": 70,
     "metadata": {},
     "output_type": "execute_result"
    }
   ],
   "source": [
    "str1.strip()"
   ]
  },
  {
   "cell_type": "code",
   "execution_count": 71,
   "id": "3a150c45",
   "metadata": {},
   "outputs": [
    {
     "data": {
      "text/plain": [
       "<function str.strip(chars=None, /)>"
      ]
     },
     "execution_count": 71,
     "metadata": {},
     "output_type": "execute_result"
    }
   ],
   "source": [
    "str1.strip"
   ]
  },
  {
   "cell_type": "code",
   "execution_count": 73,
   "id": "0a2fa5ff",
   "metadata": {},
   "outputs": [],
   "source": [
    "str1='    python    '"
   ]
  },
  {
   "cell_type": "code",
   "execution_count": 75,
   "id": "9d8cba55",
   "metadata": {},
   "outputs": [
    {
     "ename": "NameError",
     "evalue": "name 'rstrip' is not defined",
     "output_type": "error",
     "traceback": [
      "\u001b[1;31m---------------------------------------------------------------------------\u001b[0m",
      "\u001b[1;31mNameError\u001b[0m                                 Traceback (most recent call last)",
      "Cell \u001b[1;32mIn[75], line 1\u001b[0m\n\u001b[1;32m----> 1\u001b[0m str1\u001b[38;5;241m=\u001b[39mrstrip()\n",
      "\u001b[1;31mNameError\u001b[0m: name 'rstrip' is not defined"
     ]
    }
   ],
   "source": [
    "str1=rstrip()"
   ]
  },
  {
   "cell_type": "code",
   "execution_count": 77,
   "id": "e355fe01",
   "metadata": {},
   "outputs": [
    {
     "ename": "NameError",
     "evalue": "name 'r' is not defined",
     "output_type": "error",
     "traceback": [
      "\u001b[1;31m---------------------------------------------------------------------------\u001b[0m",
      "\u001b[1;31mNameError\u001b[0m                                 Traceback (most recent call last)",
      "Cell \u001b[1;32mIn[77], line 1\u001b[0m\n\u001b[1;32m----> 1\u001b[0m str1\u001b[38;5;241m=\u001b[39mr\u001b[38;5;241m.\u001b[39mstrip()\n",
      "\u001b[1;31mNameError\u001b[0m: name 'r' is not defined"
     ]
    }
   ],
   "source": [
    "str1=r.strip()"
   ]
  },
  {
   "cell_type": "code",
   "execution_count": 79,
   "id": "18808e1a",
   "metadata": {},
   "outputs": [],
   "source": [
    "str1=\"weclome to python class\"\n"
   ]
  },
  {
   "cell_type": "code",
   "execution_count": 82,
   "id": "af80cc4b",
   "metadata": {},
   "outputs": [
    {
     "data": {
      "text/plain": [
       "'weclome to java class'"
      ]
     },
     "execution_count": 82,
     "metadata": {},
     "output_type": "execute_result"
    }
   ],
   "source": [
    "str1.replace('python','java')"
   ]
  },
  {
   "cell_type": "code",
   "execution_count": 85,
   "id": "db2724a8",
   "metadata": {},
   "outputs": [
    {
     "data": {
      "text/plain": [
       "'weclome to python class'"
      ]
     },
     "execution_count": 85,
     "metadata": {},
     "output_type": "execute_result"
    }
   ],
   "source": [
    "str1.replace('java','operator')"
   ]
  },
  {
   "cell_type": "code",
   "execution_count": 87,
   "id": "d2712849",
   "metadata": {
    "scrolled": true
   },
   "outputs": [
    {
     "data": {
      "text/plain": [
       "'weclome to class class'"
      ]
     },
     "execution_count": 87,
     "metadata": {},
     "output_type": "execute_result"
    }
   ],
   "source": [
    "str1.replace('python','class')"
   ]
  },
  {
   "cell_type": "code",
   "execution_count": 90,
   "id": "4a9a819e",
   "metadata": {},
   "outputs": [
    {
     "data": {
      "text/plain": [
       "'class to python class'"
      ]
     },
     "execution_count": 90,
     "metadata": {},
     "output_type": "execute_result"
    }
   ],
   "source": [
    "str1.replace('weclome','class')"
   ]
  },
  {
   "cell_type": "code",
   "execution_count": 5,
   "id": "d9a911d3",
   "metadata": {},
   "outputs": [
    {
     "ename": "NameError",
     "evalue": "name 'str1' is not defined",
     "output_type": "error",
     "traceback": [
      "\u001b[1;31m---------------------------------------------------------------------------\u001b[0m",
      "\u001b[1;31mNameError\u001b[0m                                 Traceback (most recent call last)",
      "Cell \u001b[1;32mIn[5], line 1\u001b[0m\n\u001b[1;32m----> 1\u001b[0m str1\u001b[38;5;241m.\u001b[39mreplace(\u001b[38;5;124m'\u001b[39m\u001b[38;5;124mw\u001b[39m\u001b[38;5;124m'\u001b[39m,\u001b[38;5;124m'\u001b[39m\u001b[38;5;124mo\u001b[39m\u001b[38;5;124m'\u001b[39m,\u001b[38;5;241m1\u001b[39m)\n",
      "\u001b[1;31mNameError\u001b[0m: name 'str1' is not defined"
     ]
    }
   ],
   "source": [
    "str1.replace('w','o',1)"
   ]
  },
  {
   "cell_type": "code",
   "execution_count": 6,
   "id": "772189fd",
   "metadata": {},
   "outputs": [],
   "source": [
    "str1='welcome to java class'"
   ]
  },
  {
   "cell_type": "code",
   "execution_count": 8,
   "id": "7accb37c",
   "metadata": {},
   "outputs": [
    {
     "data": {
      "text/plain": [
       "'wolcomo to java class'"
      ]
     },
     "execution_count": 8,
     "metadata": {},
     "output_type": "execute_result"
    }
   ],
   "source": [
    "str1.replace('e','o',-1)"
   ]
  },
  {
   "cell_type": "code",
   "execution_count": 12,
   "id": "9dc22af2",
   "metadata": {},
   "outputs": [
    {
     "data": {
      "text/plain": [
       "'welcome to java class'"
      ]
     },
     "execution_count": 12,
     "metadata": {},
     "output_type": "execute_result"
    }
   ],
   "source": [
    "str1"
   ]
  },
  {
   "cell_type": "code",
   "execution_count": 1,
   "id": "630301b9",
   "metadata": {},
   "outputs": [
    {
     "ename": "NameError",
     "evalue": "name 'str1' is not defined",
     "output_type": "error",
     "traceback": [
      "\u001b[1;31m---------------------------------------------------------------------------\u001b[0m",
      "\u001b[1;31mNameError\u001b[0m                                 Traceback (most recent call last)",
      "Cell \u001b[1;32mIn[1], line 1\u001b[0m\n\u001b[1;32m----> 1\u001b[0m str1\u001b[38;5;241m.\u001b[39mreplace(\u001b[38;5;124m'\u001b[39m\u001b[38;5;124me\u001b[39m\u001b[38;5;124m'\u001b[39m,\u001b[38;5;124m'\u001b[39m\u001b[38;5;124mo\u001b[39m\u001b[38;5;124m'\u001b[39m,\u001b[38;5;241m1\u001b[39m)\n",
      "\u001b[1;31mNameError\u001b[0m: name 'str1' is not defined"
     ]
    }
   ],
   "source": [
    "str1.replace('e','o',1)"
   ]
  },
  {
   "cell_type": "code",
   "execution_count": 3,
   "id": "eb54bce5",
   "metadata": {},
   "outputs": [
    {
     "ename": "NameError",
     "evalue": "name 'str1' is not defined",
     "output_type": "error",
     "traceback": [
      "\u001b[1;31m---------------------------------------------------------------------------\u001b[0m",
      "\u001b[1;31mNameError\u001b[0m                                 Traceback (most recent call last)",
      "Cell \u001b[1;32mIn[3], line 1\u001b[0m\n\u001b[1;32m----> 1\u001b[0m str1\u001b[38;5;241m.\u001b[39mreplace(\u001b[38;5;124m\"\u001b[39m\u001b[38;5;124mweclome to python class\u001b[39m\u001b[38;5;124m\"\u001b[39m)\n",
      "\u001b[1;31mNameError\u001b[0m: name 'str1' is not defined"
     ]
    }
   ],
   "source": [
    "str1.replace(\"weclome to python class\")"
   ]
  },
  {
   "cell_type": "code",
   "execution_count": 5,
   "id": "15d4e4b8",
   "metadata": {},
   "outputs": [],
   "source": [
    "a=34"
   ]
  },
  {
   "cell_type": "code",
   "execution_count": 7,
   "id": "a764e916",
   "metadata": {},
   "outputs": [],
   "source": [
    "b=34"
   ]
  },
  {
   "cell_type": "code",
   "execution_count": 10,
   "id": "fa1e420f",
   "metadata": {},
   "outputs": [
    {
     "data": {
      "text/plain": [
       "True"
      ]
     },
     "execution_count": 10,
     "metadata": {},
     "output_type": "execute_result"
    }
   ],
   "source": [
    "a==b"
   ]
  },
  {
   "cell_type": "code",
   "execution_count": 13,
   "id": "dc2cc75e",
   "metadata": {},
   "outputs": [
    {
     "ename": "NameError",
     "evalue": "name 'true' is not defined",
     "output_type": "error",
     "traceback": [
      "\u001b[1;31m---------------------------------------------------------------------------\u001b[0m",
      "\u001b[1;31mNameError\u001b[0m                                 Traceback (most recent call last)",
      "Cell \u001b[1;32mIn[13], line 1\u001b[0m\n\u001b[1;32m----> 1\u001b[0m a\u001b[38;5;241m=\u001b[39mtrue\n",
      "\u001b[1;31mNameError\u001b[0m: name 'true' is not defined"
     ]
    }
   ],
   "source": [
    "a=true"
   ]
  },
  {
   "cell_type": "code",
   "execution_count": 15,
   "id": "f09a0c22",
   "metadata": {},
   "outputs": [
    {
     "data": {
      "text/plain": [
       "False"
      ]
     },
     "execution_count": 15,
     "metadata": {},
     "output_type": "execute_result"
    }
   ],
   "source": [
    "True and False"
   ]
  },
  {
   "cell_type": "code",
   "execution_count": 17,
   "id": "9279cd91",
   "metadata": {},
   "outputs": [
    {
     "ename": "NameError",
     "evalue": "name 'true' is not defined",
     "output_type": "error",
     "traceback": [
      "\u001b[1;31m---------------------------------------------------------------------------\u001b[0m",
      "\u001b[1;31mNameError\u001b[0m                                 Traceback (most recent call last)",
      "Cell \u001b[1;32mIn[17], line 1\u001b[0m\n\u001b[1;32m----> 1\u001b[0m \u001b[38;5;129;01mnot\u001b[39;00m(true)\n",
      "\u001b[1;31mNameError\u001b[0m: name 'true' is not defined"
     ]
    }
   ],
   "source": [
    "not(true)"
   ]
  },
  {
   "cell_type": "code",
   "execution_count": 21,
   "id": "11be5c86",
   "metadata": {},
   "outputs": [
    {
     "data": {
      "text/plain": [
       "False"
      ]
     },
     "execution_count": 21,
     "metadata": {},
     "output_type": "execute_result"
    }
   ],
   "source": [
    "not(True)"
   ]
  },
  {
   "cell_type": "code",
   "execution_count": 24,
   "id": "84e665a7",
   "metadata": {},
   "outputs": [
    {
     "ename": "SyntaxError",
     "evalue": "invalid syntax (2999793725.py, line 1)",
     "output_type": "error",
     "traceback": [
      "\u001b[1;36m  Cell \u001b[1;32mIn[24], line 1\u001b[1;36m\u001b[0m\n\u001b[1;33m    (10:5)or(20:15)\u001b[0m\n\u001b[1;37m       ^\u001b[0m\n\u001b[1;31mSyntaxError\u001b[0m\u001b[1;31m:\u001b[0m invalid syntax\n"
     ]
    }
   ],
   "source": [
    "(10:5)or(20:15)"
   ]
  },
  {
   "cell_type": "code",
   "execution_count": 27,
   "id": "78368773",
   "metadata": {},
   "outputs": [
    {
     "data": {
      "text/plain": [
       "True"
      ]
     },
     "execution_count": 27,
     "metadata": {},
     "output_type": "execute_result"
    }
   ],
   "source": [
    "(10>5) or (20<15)"
   ]
  },
  {
   "cell_type": "code",
   "execution_count": 30,
   "id": "8cfe9aa5",
   "metadata": {},
   "outputs": [
    {
     "data": {
      "text/plain": [
       "False"
      ]
     },
     "execution_count": 30,
     "metadata": {},
     "output_type": "execute_result"
    }
   ],
   "source": [
    "not(10==10)"
   ]
  },
  {
   "cell_type": "code",
   "execution_count": 32,
   "id": "26584caf",
   "metadata": {},
   "outputs": [
    {
     "data": {
      "text/plain": [
       "True"
      ]
     },
     "execution_count": 32,
     "metadata": {},
     "output_type": "execute_result"
    }
   ],
   "source": [
    "not(10!=10)"
   ]
  },
  {
   "cell_type": "code",
   "execution_count": 2,
   "id": "83d633c2",
   "metadata": {},
   "outputs": [
    {
     "ename": "SyntaxError",
     "evalue": "invalid syntax (2824338760.py, line 1)",
     "output_type": "error",
     "traceback": [
      "\u001b[1;36m  Cell \u001b[1;32mIn[2], line 1\u001b[1;36m\u001b[0m\n\u001b[1;33m    (10==)not\u001b[0m\n\u001b[1;37m         ^\u001b[0m\n\u001b[1;31mSyntaxError\u001b[0m\u001b[1;31m:\u001b[0m invalid syntax\n"
     ]
    }
   ],
   "source": [
    "(10==)not"
   ]
  },
  {
   "cell_type": "code",
   "execution_count": 4,
   "id": "27ef5960",
   "metadata": {},
   "outputs": [
    {
     "data": {
      "text/plain": [
       "True"
      ]
     },
     "execution_count": 4,
     "metadata": {},
     "output_type": "execute_result"
    }
   ],
   "source": [
    "(10>5) or (20<15)"
   ]
  },
  {
   "cell_type": "code",
   "execution_count": 7,
   "id": "055076a9",
   "metadata": {},
   "outputs": [
    {
     "data": {
      "text/plain": [
       "False"
      ]
     },
     "execution_count": 7,
     "metadata": {},
     "output_type": "execute_result"
    }
   ],
   "source": [
    "not(True)"
   ]
  },
  {
   "cell_type": "code",
   "execution_count": 8,
   "id": "36bc593e",
   "metadata": {},
   "outputs": [
    {
     "data": {
      "text/plain": [
       "True"
      ]
     },
     "execution_count": 8,
     "metadata": {},
     "output_type": "execute_result"
    }
   ],
   "source": [
    "not(10!=10)"
   ]
  },
  {
   "cell_type": "code",
   "execution_count": 11,
   "id": "06efa606",
   "metadata": {},
   "outputs": [
    {
     "data": {
      "text/plain": [
       "False"
      ]
     },
     "execution_count": 11,
     "metadata": {},
     "output_type": "execute_result"
    }
   ],
   "source": [
    "10!=10"
   ]
  },
  {
   "cell_type": "markdown",
   "id": "fb2eaa4e",
   "metadata": {},
   "source": [
    "10>20"
   ]
  },
  {
   "cell_type": "code",
   "execution_count": 14,
   "id": "23bb7b2c",
   "metadata": {},
   "outputs": [
    {
     "data": {
      "text/plain": [
       "False"
      ]
     },
     "execution_count": 14,
     "metadata": {},
     "output_type": "execute_result"
    }
   ],
   "source": [
    "(10==10)&(10>20)&(20<30)"
   ]
  },
  {
   "cell_type": "markdown",
   "id": "dfc3f708",
   "metadata": {},
   "source": [
    "\n",
    "## unary operator"
   ]
  },
  {
   "cell_type": "code",
   "execution_count": 16,
   "id": "1de978ba",
   "metadata": {},
   "outputs": [],
   "source": [
    "a=20"
   ]
  },
  {
   "cell_type": "code",
   "execution_count": 18,
   "id": "a7523fbb",
   "metadata": {},
   "outputs": [],
   "source": [
    "b=34"
   ]
  },
  {
   "cell_type": "code",
   "execution_count": 20,
   "id": "8f9af1ae",
   "metadata": {},
   "outputs": [],
   "source": [
    "a=20\n",
    "b=10"
   ]
  },
  {
   "cell_type": "code",
   "execution_count": 21,
   "id": "936726aa",
   "metadata": {},
   "outputs": [],
   "source": [
    "a=a-b"
   ]
  },
  {
   "cell_type": "code",
   "execution_count": 23,
   "id": "dfe1d2db",
   "metadata": {},
   "outputs": [
    {
     "data": {
      "text/plain": [
       "10"
      ]
     },
     "execution_count": 23,
     "metadata": {},
     "output_type": "execute_result"
    }
   ],
   "source": [
    "a"
   ]
  },
  {
   "cell_type": "code",
   "execution_count": 25,
   "id": "0d335157",
   "metadata": {},
   "outputs": [
    {
     "data": {
      "text/plain": [
       "-10"
      ]
     },
     "execution_count": 25,
     "metadata": {},
     "output_type": "execute_result"
    }
   ],
   "source": [
    "a-=b\n",
    "a"
   ]
  },
  {
   "cell_type": "code",
   "execution_count": 27,
   "id": "ac9f106a",
   "metadata": {},
   "outputs": [],
   "source": [
    "a=20\n",
    "b=10"
   ]
  },
  {
   "cell_type": "code",
   "execution_count": 30,
   "id": "3ff7fdc8",
   "metadata": {},
   "outputs": [],
   "source": [
    "a-=b"
   ]
  },
  {
   "cell_type": "code",
   "execution_count": 31,
   "id": "0c6f81c0",
   "metadata": {},
   "outputs": [
    {
     "data": {
      "text/plain": [
       "-10"
      ]
     },
     "execution_count": 31,
     "metadata": {},
     "output_type": "execute_result"
    }
   ],
   "source": [
    "a"
   ]
  },
  {
   "cell_type": "code",
   "execution_count": 33,
   "id": "0c943443",
   "metadata": {},
   "outputs": [],
   "source": [
    "a-=10"
   ]
  },
  {
   "cell_type": "code",
   "execution_count": 35,
   "id": "9e5ff315",
   "metadata": {},
   "outputs": [],
   "source": [
    "a=20"
   ]
  },
  {
   "cell_type": "code",
   "execution_count": 36,
   "id": "97ea6a29",
   "metadata": {},
   "outputs": [],
   "source": [
    "b=20"
   ]
  },
  {
   "cell_type": "code",
   "execution_count": 38,
   "id": "34f88990",
   "metadata": {},
   "outputs": [],
   "source": [
    "a=10"
   ]
  },
  {
   "cell_type": "code",
   "execution_count": 40,
   "id": "e27b2ea8",
   "metadata": {},
   "outputs": [],
   "source": [
    "a-=b"
   ]
  },
  {
   "cell_type": "code",
   "execution_count": 42,
   "id": "999b3655",
   "metadata": {},
   "outputs": [],
   "source": [
    "a=100\n",
    "b=10\n",
    "\n"
   ]
  },
  {
   "cell_type": "code",
   "execution_count": 44,
   "id": "b9250abc",
   "metadata": {},
   "outputs": [],
   "source": [
    "a/=b"
   ]
  },
  {
   "cell_type": "code",
   "execution_count": 2,
   "id": "d9a383d5",
   "metadata": {},
   "outputs": [
    {
     "data": {
      "text/plain": [
       "10.0"
      ]
     },
     "execution_count": 2,
     "metadata": {},
     "output_type": "execute_result"
    }
   ],
   "source": [
    "10.0"
   ]
  },
  {
   "cell_type": "code",
   "execution_count": 3,
   "id": "13c8b79e",
   "metadata": {},
   "outputs": [],
   "source": [
    "a=100"
   ]
  },
  {
   "cell_type": "code",
   "execution_count": 4,
   "id": "692caf98",
   "metadata": {},
   "outputs": [],
   "source": [
    "b=10"
   ]
  },
  {
   "cell_type": "code",
   "execution_count": 6,
   "id": "ef214d27",
   "metadata": {},
   "outputs": [],
   "source": [
    "a/=b"
   ]
  },
  {
   "cell_type": "code",
   "execution_count": 8,
   "id": "bab68216",
   "metadata": {},
   "outputs": [],
   "source": [
    "a/=b"
   ]
  },
  {
   "cell_type": "code",
   "execution_count": 11,
   "id": "9f554bbc",
   "metadata": {},
   "outputs": [
    {
     "data": {
      "text/plain": [
       "0.01"
      ]
     },
     "execution_count": 11,
     "metadata": {},
     "output_type": "execute_result"
    }
   ],
   "source": [
    "a"
   ]
  },
  {
   "cell_type": "code",
   "execution_count": 13,
   "id": "fc0371e7",
   "metadata": {},
   "outputs": [],
   "source": [
    "a/=b"
   ]
  },
  {
   "cell_type": "code",
   "execution_count": 15,
   "id": "074b795d",
   "metadata": {},
   "outputs": [],
   "source": [
    "a/=b"
   ]
  },
  {
   "cell_type": "code",
   "execution_count": 17,
   "id": "fe361e6f",
   "metadata": {},
   "outputs": [
    {
     "data": {
      "text/plain": [
       "1.0000000000000002e-06"
      ]
     },
     "execution_count": 17,
     "metadata": {},
     "output_type": "execute_result"
    }
   ],
   "source": [
    "a"
   ]
  },
  {
   "cell_type": "code",
   "execution_count": 19,
   "id": "93c0d306",
   "metadata": {},
   "outputs": [],
   "source": [
    "a=100"
   ]
  },
  {
   "cell_type": "code",
   "execution_count": 21,
   "id": "761c5067",
   "metadata": {},
   "outputs": [],
   "source": [
    "b=10"
   ]
  },
  {
   "cell_type": "code",
   "execution_count": 23,
   "id": "2869957f",
   "metadata": {},
   "outputs": [],
   "source": [
    "a/=b"
   ]
  },
  {
   "cell_type": "code",
   "execution_count": 25,
   "id": "082cc726",
   "metadata": {},
   "outputs": [
    {
     "name": "stdout",
     "output_type": "stream",
     "text": [
      "1.0\n"
     ]
    }
   ],
   "source": [
    "print(a)"
   ]
  },
  {
   "cell_type": "code",
   "execution_count": 26,
   "id": "3ab52ee2",
   "metadata": {},
   "outputs": [],
   "source": [
    "a=10"
   ]
  },
  {
   "cell_type": "code",
   "execution_count": 27,
   "id": "521f9021",
   "metadata": {},
   "outputs": [],
   "source": [
    "b=20"
   ]
  },
  {
   "cell_type": "code",
   "execution_count": 30,
   "id": "ed070177",
   "metadata": {},
   "outputs": [
    {
     "name": "stdout",
     "output_type": "stream",
     "text": [
      "Sum of the Number : 30\n"
     ]
    }
   ],
   "source": [
    "print('Sum of the Number :',a+b)"
   ]
  },
  {
   "cell_type": "code",
   "execution_count": 31,
   "id": "4187b3c0",
   "metadata": {},
   "outputs": [],
   "source": [
    "name='ajay'\n",
    "age=30"
   ]
  },
  {
   "cell_type": "code",
   "execution_count": 33,
   "id": "1c309478",
   "metadata": {},
   "outputs": [
    {
     "name": "stdout",
     "output_type": "stream",
     "text": [
      "ajay is 30 year old\n"
     ]
    }
   ],
   "source": [
    "print(name,'is',age,'year old')"
   ]
  },
  {
   "cell_type": "code",
   "execution_count": 36,
   "id": "21e5d184",
   "metadata": {},
   "outputs": [
    {
     "name": "stdout",
     "output_type": "stream",
     "text": [
      "ajay is 30 year old\n"
     ]
    }
   ],
   "source": [
    "print('{0} is {1} year old'.format(name,age)) "
   ]
  },
  {
   "cell_type": "code",
   "execution_count": 38,
   "id": "5033d8da",
   "metadata": {},
   "outputs": [],
   "source": [
    "name='ajay'\n",
    "age=23\n",
    "address='plot no-16/17 maji sainak colony,aurangabad'"
   ]
  },
  {
   "cell_type": "code",
   "execution_count": 41,
   "id": "ecaae65e",
   "metadata": {},
   "outputs": [
    {
     "name": "stdout",
     "output_type": "stream",
     "text": [
      "m23,age,plot no-16/17 maji sainak colony,aurangabad\n"
     ]
    }
   ],
   "source": [
    "print('m{1},age,{2}'.format(name,age,adress))"
   ]
  },
  {
   "cell_type": "code",
   "execution_count": 44,
   "id": "96177203",
   "metadata": {},
   "outputs": [
    {
     "name": "stdout",
     "output_type": "stream",
     "text": [
      "my name is ajay age 23 and adressplot no-16/17 maji sainak colony,aurangabad\n"
     ]
    }
   ],
   "source": [
    "print('my name is {0} age {1} and adress{2}'.format(name,age,adress)) "
   ]
  }
 ],
 "metadata": {
  "kernelspec": {
   "display_name": "Python 3 (ipykernel)",
   "language": "python",
   "name": "python3"
  },
  "language_info": {
   "codemirror_mode": {
    "name": "ipython",
    "version": 3
   },
   "file_extension": ".py",
   "mimetype": "text/x-python",
   "name": "python",
   "nbconvert_exporter": "python",
   "pygments_lexer": "ipython3",
   "version": "3.11.5"
  }
 },
 "nbformat": 4,
 "nbformat_minor": 5
}
